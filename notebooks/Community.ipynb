{
 "cells": [
  {
   "cell_type": "markdown",
   "metadata": {},
   "source": [
    "# Community Detection with NetworKit "
   ]
  },
  {
   "cell_type": "markdown",
   "metadata": {},
   "source": [
    "In this notebook we will cover some community detection algorithms implemented in the `community` module of NetworKit. Community detection is concerned with identifying groups of nodes which are significantly more densely connected to each other than to the rest of the network. As a first step we import NetworKit:"
   ]
  },
  {
   "cell_type": "code",
   "execution_count": 18,
   "metadata": {},
   "outputs": [],
   "source": [
    "import networkit as nk\n",
    "nk.engineering.setNumberOfThreads(1)\n",
    "nk.engineering.setSeed(0, False)"
   ]
  },
  {
   "cell_type": "markdown",
   "metadata": {},
   "source": [
    "The `community` module provides a top-level function, [detectCommunities(G, algo=None, inspect=True)](https://networkit.github.io/dev-docs/python_api/community.html?highlight=detect#networkit.community.detectCommunities) to perform community detection of a given graph with a suitable algorithm, and print some statistics about the result. If no algorithm is specified via the `algo` parameter, community detection is performed using the [PLM](https://networkit.github.io/dev-docs/python_api/community.html?highlight=plm#networkit.community.PLM) algorithm.\n",
    "\n",
    "This function can be used as follows:"
   ]
  },
  {
   "cell_type": "code",
   "execution_count": 19,
   "metadata": {
    "scrolled": true
   },
   "outputs": [],
   "source": [
    "# Read graph\n",
    "G = nk.readGraph(\"/data/yliumh/AutoAtClusterDatasets/networkit/uk-2007-05@100000-edgelist.txt\", nk.Format.EdgeListTabZero)\n",
    "# G = nk.readGraph(\"/data/yliumh/AutoAtClusterDatasets/snap/com-orkut.ungraph.txt\", nk.Format.SNAP)\n",
    "# import networkx as nx\n",
    "# from sklearn.metrics import normalized_mutual_info_score as NMI, adjusted_rand_score as ARI\n",
    "# import scipy.sparse as sp\n",
    "# import numpy as np\n",
    "# # G = nx.karate_club_graph()\n",
    "# # labels = [0, 0, 0, 0, 0, 0, 0, 0, 1, 1, 0, 0, 0, 0, 1, 1, 0, 0, 1, 0, 1, 0, 1, 1, 1, 1, 1, 1, 1, 1, 1, 1, 1, 1]\n",
    "# nc, r = 10, 1000 # ring of cliques: nc=#nodes in each clique; r=#cliques\n",
    "# data = np.load(f\"/home/yliumh/github/AutoAtCluster/baselines/Louvain/dataset/ring_of_cliques_{nc}_{r}.npz\")\n",
    "# adj_data, adj_row, adj_col = data[\"data\"], data[\"row\"], data[\"col\"]\n",
    "# adj = sp.coo_matrix((adj_data, (adj_row, adj_col)))\n",
    "# G = nx.from_scipy_sparse_array(adj)\n",
    "# G = nk.nxadapter.nx2nk(G)\n",
    "# print(\"===\")\n",
    "# communities = nk.community.detectCommunities(G)\n",
    "# preds = communities.getVector()\n",
    "# print(NMI(labels, preds), ARI(labels, preds))"
   ]
  },
  {
   "cell_type": "code",
   "execution_count": 9,
   "metadata": {},
   "outputs": [
    {
     "name": "stdout",
     "output_type": "stream",
     "text": [
      "Graph with 7650 nodes and 8785241 edges\n"
     ]
    }
   ],
   "source": [
    "import numpy as np\n",
    "import scipy.sparse as sp\n",
    "import networkx as nx\n",
    "def load_knn_graph(dataset, k, seed):\n",
    "    try:\n",
    "        knn_graph_path = f\"/home/yliumh/github/AutoAtCluster/baselines/KNN/outputs/knn_adj_{dataset}_{seed}_{k}.npz\"\n",
    "        data = np.load(knn_graph_path)\n",
    "        adj_data, adj_row, adj_col = data[\"data\"], data[\"row\"], data[\"col\"]\n",
    "        knn_adj = sp.coo_matrix((adj_data, (adj_row, adj_col)))\n",
    "        graph = nx.from_scipy_sparse_array(knn_adj)\n",
    "        return graph\n",
    "    except Exception as e:\n",
    "        print(e)\n",
    "graph = load_knn_graph(\"amazon-photo\", 100, 0)\n",
    "print(graph)\n",
    "G = nk.nxadapter.nx2nk(graph, weightAttr=\"weight\")"
   ]
  },
  {
   "cell_type": "code",
   "execution_count": 8,
   "metadata": {
    "scrolled": true
   },
   "outputs": [
    {
     "data": {
      "text/plain": [
       "0.841363198808599"
      ]
     },
     "execution_count": 8,
     "metadata": {},
     "output_type": "execute_result"
    }
   ],
   "source": [
    "nk.community.Modularity().getQuality(communities, G)"
   ]
  },
  {
   "cell_type": "code",
   "execution_count": null,
   "metadata": {},
   "outputs": [],
   "source": []
  },
  {
   "cell_type": "code",
   "execution_count": 30,
   "metadata": {},
   "outputs": [
    {
     "data": {
      "text/plain": [
       "1520"
      ]
     },
     "execution_count": 30,
     "metadata": {},
     "output_type": "execute_result"
    }
   ],
   "source": [
    "nk.graphtools.randomNeighbor(G,0)"
   ]
  },
  {
   "cell_type": "code",
   "execution_count": null,
   "metadata": {},
   "outputs": [],
   "source": []
  },
  {
   "cell_type": "markdown",
   "metadata": {},
   "source": [
    "The following sections cover two popular community detection algorithms, `PLM` and `PLP`, and will illustrate how to use them."
   ]
  },
  {
   "cell_type": "markdown",
   "metadata": {},
   "source": [
    "## PLM"
   ]
  },
  {
   "cell_type": "markdown",
   "metadata": {},
   "source": [
    "NetworKit provides a parallel implementation of the well-known Louvain method, which can be found in the [PLM](https://networkit.github.io/dev-docs/python_api/community.html?highlight=plm#networkit.community.PLM) class. It yields a high-quality solution at reasonably fast running times. The constructor `PLM(Graph, refine=False, gamma=0.1, par='balance', maxIter=32, turbo=True, recurse=True)` expects a [networkit.Graph](https://networkit.github.io/dev-docs/python_api/networkit.html?highlight=graph#networkit.Graph) as a mandatory parameter. If the parameter `refine` is set to true, the algorithm performs a second move phase to refine the communities. The parameter `gamma` defines the multi-resolution modularity parameter. The string `par` defines the openmp parallelization strategy. `maxIter` is the maximum number of iterations for move phase. When `turbo` is set to true, the algorithm is faster but uses O(n) additional memory per thread. Set `recurse`to true in order to use recursive coarsening. Refer to [this]( http://journals.aps.org/pre/abstract/10.1103/PhysRevE.89.049902) for more details on recursive coarsening.\n",
    "\n",
    "In the example below we run PLM with `refine` set to true while leaving the rest of the parameters to their default values.\""
   ]
  },
  {
   "cell_type": "code",
   "execution_count": 22,
   "metadata": {},
   "outputs": [
    {
     "name": "stdout",
     "output_type": "stream",
     "text": [
      "Communities detected in 0.40364 [s]\n",
      "solution properties:\n",
      "-------------------  --------------\n",
      "# communities            61\n",
      "min community size       21\n",
      "max community size    18164\n",
      "avg. community size    1639.34\n",
      "imbalance                11.0756\n",
      "edge cut             261893\n",
      "edge cut (portion)        0.0936923\n",
      "modularity                0.840457\n",
      "-------------------  --------------\n",
      "[1117340, 2330, 216, 61, 72, 932, 0] 1120951\n",
      "{b'coarsen': [12, 0, 0], b'move': [380, 0, 0, 0], b'refine': [0, 0, 0]}\n",
      "[33, 1]\n"
     ]
    }
   ],
   "source": [
    "# Choose and initialize algorithm \n",
    "algo = nk.community.PLM(G, True, turbo=True, nm=\"ps\", maxIter=32)\n",
    "plmCommunities = nk.community.detectCommunities(G, algo=algo)\n",
    "cnt = algo.getCount()\n",
    "print(algo.getCount(), sum(cnt))\n",
    "print(algo.getTiming())\n",
    "print(algo.getIter())\n",
    "preds = plmCommunities.getVector()\n",
    "# print(NMI(labels, preds), ARI(labels, preds))"
   ]
  },
  {
   "cell_type": "markdown",
   "metadata": {},
   "source": [
    "The output of the `detectCommunities` function is a partition of the nodes of the graph. It is represented by the [Partition](https://networkit.github.io/dev-docs/python_api/networkit.html?highlight=partition#networkit.Partition) data structure, which provides several methods for inspecting and manipulating a partition of a set of elements."
   ]
  },
  {
   "cell_type": "code",
   "execution_count": 4,
   "metadata": {},
   "outputs": [
    {
     "name": "stdout",
     "output_type": "stream",
     "text": [
      "34 elements assigned to 4 subsets\n"
     ]
    }
   ],
   "source": [
    "print(\"{0} elements assigned to {1} subsets\".format(plmCommunities.numberOfElements(),\n",
    "                                                    plmCommunities.numberOfSubsets()))"
   ]
  },
  {
   "cell_type": "code",
   "execution_count": 5,
   "metadata": {},
   "outputs": [
    {
     "name": "stdout",
     "output_type": "stream",
     "text": [
      "the biggest subset has size 12\n"
     ]
    }
   ],
   "source": [
    "print(\"the biggest subset has size {0}\".format(max(plmCommunities.subsetSizes())))"
   ]
  },
  {
   "cell_type": "markdown",
   "metadata": {},
   "source": [
    "The contents of a partition object can be written to file in a simple format, in which the `i`-th line contains an integer representing the subset id of node `i`."
   ]
  },
  {
   "cell_type": "code",
   "execution_count": null,
   "metadata": {},
   "outputs": [],
   "source": [
    "nk.community.writeCommunities(plmCommunities, \"output/communtiesPLM.partition\")"
   ]
  },
  {
   "cell_type": "code",
   "execution_count": null,
   "metadata": {},
   "outputs": [],
   "source": []
  },
  {
   "cell_type": "code",
   "execution_count": 16,
   "metadata": {},
   "outputs": [
    {
     "name": "stdout",
     "output_type": "stream",
     "text": [
      "Communities detected in 0.57400 [s]\n",
      "solution properties:\n",
      "-------------------  -------------\n",
      "# communities           391\n",
      "min community size        2\n",
      "max community size    11443\n",
      "avg. community size     255.754\n",
      "imbalance                44.6992\n",
      "edge cut             405444\n",
      "edge cut (portion)        0.145048\n",
      "modularity                0.804907\n",
      "-------------------  -------------\n"
     ]
    }
   ],
   "source": [
    "# Choose and initialize algorithm \n",
    "algo = nk.community.ParallelLeiden(G, iterations=32)\n",
    "plmCommunities = nk.community.detectCommunities(G, algo=algo)"
   ]
  },
  {
   "cell_type": "markdown",
   "metadata": {},
   "source": [
    "## PLP "
   ]
  },
  {
   "cell_type": "markdown",
   "metadata": {},
   "source": [
    "The Label Propagation algorithm is an algorithm for finding communities in a graph. NetworKit provides a parallel implementation, [PLP(G, updateThreshold=none, maxIterations=none)](https://networkit.github.io/dev-docs/python_api/community.html?highlight=plp#networkit.community.PLP). The constructor expects a [networkit.Graph](https://networkit.github.io/dev-docs/python_api/networkit.html?highlight=graph#networkit.Graph) as a mandatory parameter. The parameter `updateThreshold` dictates the number of nodes that have to be changed in each iteration so that a new iteration starts, and `maxIterations` is the maximum number of iterations. `none` is NetworKit constant set to the maximum value of a 64-bit integer."
   ]
  },
  {
   "cell_type": "code",
   "execution_count": null,
   "metadata": {},
   "outputs": [],
   "source": [
    "# Read graph\n",
    "G = nk.readGraph(\"../input/jazz.graph\", nk.Format.METIS)"
   ]
  },
  {
   "cell_type": "code",
   "execution_count": null,
   "metadata": {},
   "outputs": [],
   "source": [
    "# Choose and initialize algorithm \n",
    "plpCommunities = nk.community.detectCommunities(G, algo=nk.community.PLP(G))"
   ]
  },
  {
   "cell_type": "code",
   "execution_count": null,
   "metadata": {},
   "outputs": [],
   "source": [
    "print(\"{0} elements assigned to {1} subsets\".format(plpCommunities.numberOfElements(),\n",
    "                                                    plpCommunities.numberOfSubsets()))"
   ]
  },
  {
   "cell_type": "code",
   "execution_count": null,
   "metadata": {},
   "outputs": [],
   "source": [
    "print(\"the biggest subset has size {0}\".format(max(plpCommunities.subsetSizes())))"
   ]
  },
  {
   "cell_type": "code",
   "execution_count": null,
   "metadata": {},
   "outputs": [],
   "source": [
    "nk.community.writeCommunities(plpCommunities, \"output/communtiesPLP.partition\")"
   ]
  }
 ],
 "metadata": {
  "kernelspec": {
   "display_name": "Python 3 (ipykernel)",
   "language": "python",
   "name": "python3"
  },
  "language_info": {
   "codemirror_mode": {
    "name": "ipython",
    "version": 3
   },
   "file_extension": ".py",
   "mimetype": "text/x-python",
   "name": "python",
   "nbconvert_exporter": "python",
   "pygments_lexer": "ipython3",
   "version": "3.10.13"
  }
 },
 "nbformat": 4,
 "nbformat_minor": 4
}
